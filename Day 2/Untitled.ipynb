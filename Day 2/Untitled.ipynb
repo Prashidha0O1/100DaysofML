{
 "cells": [
  {
   "cell_type": "code",
   "execution_count": null,
   "id": "f9105b72-28c1-45ae-b957-a636e59fff45",
   "metadata": {},
   "outputs": [],
   "source": []
  }
 ],
 "metadata": {
  "kernelspec": {
   "display_name": "",
   "name": ""
  },
  "language_info": {
   "name": ""
  }
 },
 "nbformat": 4,
 "nbformat_minor": 5
}
