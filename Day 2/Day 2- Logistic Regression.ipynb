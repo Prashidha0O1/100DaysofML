{
 "cells": [
  {
   "cell_type": "markdown",
   "id": "3b1f6b66-4ccf-4085-a154-ea2a64d864d9",
   "metadata": {},
   "source": [
    "## Logistic Regression is a statistical machine learning model used for binary classification problems, where the goal is to predict a categorical target variable with two possible outcomes (e.g., 0 or 1, True or False). Despite its name, it is not a regression algorithm but a classification algorithm. It can also be extended to multiclass problems using techniques like one-vs-rest or softmax regression.\n"
   ]
  },
  {
   "cell_type": "code",
   "execution_count": 1,
   "id": "c180fa5d-1223-4e85-b6b0-e66b6add60c2",
   "metadata": {},
   "outputs": [
    {
     "name": "stdout",
     "output_type": "stream",
     "text": [
      "Collecting manim\n",
      "  Using cached manim-0.19.0-py3-none-any.whl.metadata (11 kB)\n",
      "Requirement already satisfied: Pillow>=9.1 in c:\\python311\\lib\\site-packages (from manim) (9.5.0)\n",
      "Requirement already satisfied: Pygments>=2.0.0 in c:\\python311\\lib\\site-packages (from manim) (2.19.1)\n",
      "Collecting av<14.0.0,>=9.0.0 (from manim)\n",
      "  Using cached av-13.1.0-cp311-cp311-win_amd64.whl.metadata (4.6 kB)\n",
      "Requirement already satisfied: beautifulsoup4>=4.12 in c:\\python311\\lib\\site-packages (from manim) (4.13.3)\n",
      "Requirement already satisfied: click>=8.0 in c:\\python311\\lib\\site-packages (from manim) (8.1.8)\n",
      "Collecting cloup>=2.0.0 (from manim)\n",
      "  Using cached cloup-3.0.7-py2.py3-none-any.whl.metadata (6.3 kB)\n",
      "Requirement already satisfied: decorator>=4.3.2 in c:\\python311\\lib\\site-packages (from manim) (5.2.1)\n",
      "Collecting isosurfaces>=0.1.0 (from manim)\n",
      "  Using cached isosurfaces-0.1.2-py3-none-any.whl.metadata (3.3 kB)\n",
      "Collecting manimpango<1.0.0,>=0.5.0 (from manim)\n",
      "  Using cached ManimPango-0.6.0-cp311-cp311-win_amd64.whl.metadata (8.2 kB)\n",
      "Collecting mapbox-earcut>=1.0.0 (from manim)\n",
      "  Using cached mapbox_earcut-1.0.3-cp311-cp311-win_amd64.whl.metadata (2.2 kB)\n",
      "Collecting moderngl<6.0.0,>=5.0.0 (from manim)\n",
      "  Using cached moderngl-5.12.0-cp311-cp311-win_amd64.whl.metadata (8.0 kB)\n",
      "Collecting moderngl-window>=2.0.0 (from manim)\n",
      "  Using cached moderngl_window-3.1.1-py3-none-any.whl.metadata (9.0 kB)\n",
      "Requirement already satisfied: networkx>=2.6 in c:\\python311\\lib\\site-packages (from manim) (3.4.2)\n",
      "Collecting numpy>=2.1 (from manim)\n",
      "  Using cached numpy-2.3.0-cp311-cp311-win_amd64.whl.metadata (60 kB)\n",
      "Collecting pycairo<2.0.0,>=1.13 (from manim)\n",
      "  Using cached pycairo-1.28.0-cp311-cp311-win_amd64.whl.metadata (2.3 kB)\n",
      "Requirement already satisfied: pydub>=0.20.0 in c:\\python311\\lib\\site-packages (from manim) (0.25.1)\n",
      "Collecting rich>=12.0.0 (from manim)\n",
      "  Using cached rich-14.0.0-py3-none-any.whl.metadata (18 kB)\n",
      "Requirement already satisfied: scipy>=1.13.0 in c:\\python311\\lib\\site-packages (from manim) (1.15.2)\n",
      "Collecting screeninfo>=0.7 (from manim)\n",
      "  Using cached screeninfo-0.8.1-py3-none-any.whl.metadata (2.9 kB)\n",
      "Collecting skia-pathops>=0.7.0 (from manim)\n",
      "  Using cached skia_pathops-0.8.0.post2-cp311-cp311-win_amd64.whl.metadata (2.4 kB)\n",
      "Requirement already satisfied: srt>=3.0.0 in c:\\python311\\lib\\site-packages (from manim) (3.5.3)\n",
      "Requirement already satisfied: svgelements>=1.8.0 in c:\\python311\\lib\\site-packages (from manim) (1.9.6)\n",
      "Requirement already satisfied: tqdm>=4.0.0 in c:\\python311\\lib\\site-packages (from manim) (4.67.1)\n",
      "Requirement already satisfied: typing-extensions>=4.0.0 in c:\\python311\\lib\\site-packages (from manim) (4.12.2)\n",
      "Requirement already satisfied: watchdog>=2.0.0 in c:\\python311\\lib\\site-packages (from manim) (3.0.0)\n",
      "Requirement already satisfied: soupsieve>1.2 in c:\\python311\\lib\\site-packages (from beautifulsoup4>=4.12->manim) (2.6)\n",
      "Requirement already satisfied: colorama in c:\\python311\\lib\\site-packages (from click>=8.0->manim) (0.4.6)\n",
      "Requirement already satisfied: glcontext>=3.0.0 in c:\\python311\\lib\\site-packages (from moderngl<6.0.0,>=5.0.0->manim) (3.0.0)\n",
      "Collecting pyglet>=2.0.0 (from moderngl-window>=2.0.0->manim)\n",
      "  Using cached pyglet-2.1.6-py3-none-any.whl.metadata (7.7 kB)\n",
      "Requirement already satisfied: pyglm<3,>=2.7.0 in c:\\python311\\lib\\site-packages (from moderngl-window>=2.0.0->manim) (2.8.2)\n",
      "Collecting Pillow>=9.1 (from manim)\n",
      "  Using cached pillow-11.2.1-cp311-cp311-win_amd64.whl.metadata (9.1 kB)\n",
      "Collecting markdown-it-py>=2.2.0 (from rich>=12.0.0->manim)\n",
      "  Using cached markdown_it_py-3.0.0-py3-none-any.whl.metadata (6.9 kB)\n",
      "Requirement already satisfied: mdurl~=0.1 in c:\\python311\\lib\\site-packages (from markdown-it-py>=2.2.0->rich>=12.0.0->manim) (0.1.2)\n",
      "Using cached manim-0.19.0-py3-none-any.whl (625 kB)\n",
      "Using cached av-13.1.0-cp311-cp311-win_amd64.whl (25.8 MB)\n",
      "Using cached cloup-3.0.7-py2.py3-none-any.whl (54 kB)\n",
      "Using cached isosurfaces-0.1.2-py3-none-any.whl (11 kB)\n",
      "Using cached ManimPango-0.6.0-cp311-cp311-win_amd64.whl (4.1 MB)\n",
      "Using cached mapbox_earcut-1.0.3-cp311-cp311-win_amd64.whl (72 kB)\n",
      "Using cached moderngl-5.12.0-cp311-cp311-win_amd64.whl (108 kB)\n",
      "Using cached moderngl_window-3.1.1-py3-none-any.whl (382 kB)\n",
      "Using cached numpy-2.3.0-cp311-cp311-win_amd64.whl (13.0 MB)\n",
      "Using cached pillow-11.2.1-cp311-cp311-win_amd64.whl (2.7 MB)\n",
      "Using cached pycairo-1.28.0-cp311-cp311-win_amd64.whl (841 kB)\n",
      "Using cached rich-14.0.0-py3-none-any.whl (243 kB)\n",
      "Using cached screeninfo-0.8.1-py3-none-any.whl (12 kB)\n",
      "Using cached skia_pathops-0.8.0.post2-cp311-cp311-win_amd64.whl (2.9 MB)\n",
      "Using cached markdown_it_py-3.0.0-py3-none-any.whl (87 kB)\n",
      "Using cached pyglet-2.1.6-py3-none-any.whl (983 kB)\n",
      "Installing collected packages: skia-pathops, screeninfo, pyglet, pycairo, Pillow, numpy, moderngl, markdown-it-py, manimpango, av, rich, moderngl-window, mapbox-earcut, isosurfaces, cloup, manim\n",
      "  Attempting uninstall: Pillow\n",
      "    Found existing installation: Pillow 9.5.0\n",
      "    Uninstalling Pillow-9.5.0:\n",
      "      Successfully uninstalled Pillow-9.5.0\n",
      "  Attempting uninstall: numpy\n",
      "    Found existing installation: numpy 1.26.4\n",
      "    Uninstalling numpy-1.26.4:\n"
     ]
    },
    {
     "name": "stderr",
     "output_type": "stream",
     "text": [
      "WARNING: Ignoring invalid distribution ~ (C:\\Python311\\Lib\\site-packages)\n",
      "WARNING: Ignoring invalid distribution ~ip (C:\\Python311\\Lib\\site-packages)\n",
      "DEPRECATION: Loading egg at c:\\python311\\lib\\site-packages\\vboxapi-1.0-py3.11.egg is deprecated. pip 25.1 will enforce this behaviour change. A possible replacement is to use pip for package installation. Discussion can be found at https://github.com/pypa/pip/issues/12330\n",
      "WARNING: Ignoring invalid distribution ~ (C:\\Python311\\Lib\\site-packages)\n",
      "WARNING: Ignoring invalid distribution ~ip (C:\\Python311\\Lib\\site-packages)\n",
      "ERROR: Could not install packages due to an OSError: [WinError 5] Access is denied: 'c:\\\\python311\\\\scripts\\\\f2py.exe'\n",
      "Consider using the `--user` option or check the permissions.\n",
      "\n"
     ]
    }
   ],
   "source": [
    "!pip install manim "
   ]
  },
  {
   "cell_type": "code",
   "execution_count": null,
   "id": "2cf2fe8f-8c7a-445a-bf95-c6e92ca6ffb9",
   "metadata": {},
   "outputs": [],
   "source": []
  }
 ],
 "metadata": {
  "kernelspec": {
   "display_name": "Python 3 (ipykernel)",
   "language": "python",
   "name": "python3"
  },
  "language_info": {
   "codemirror_mode": {
    "name": "ipython",
    "version": 3
   },
   "file_extension": ".py",
   "mimetype": "text/x-python",
   "name": "python",
   "nbconvert_exporter": "python",
   "pygments_lexer": "ipython3",
   "version": "3.11.0"
  }
 },
 "nbformat": 4,
 "nbformat_minor": 5
}
